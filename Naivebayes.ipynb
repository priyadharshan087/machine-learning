{
  "nbformat": 4,
  "nbformat_minor": 0,
  "metadata": {
    "colab": {
      "provenance": []
    },
    "kernelspec": {
      "name": "python3",
      "display_name": "Python 3"
    },
    "language_info": {
      "name": "python"
    }
  },
  "cells": [
    {
      "cell_type": "code",
      "source": [
        "import numpy as np\n",
        "import pandas as pd\n",
        "from sklearn.model_selection import train_test_split\n",
        "from sklearn.naive_bayes import GaussianNB\n",
        "from sklearn.metrics import accuracy_score, classification_report, confusion_matrix\n",
        "import matplotlib.pyplot as plt\n",
        "import seaborn as sns\n",
        "\n",
        "from sklearn.datasets import load_iris\n",
        "data = load_iris()\n",
        "x = data.data\n",
        "y = data.target\n",
        "x_train, x_test, y_train, y_test = train_test_split(x, y, test_size=0.3, random_state=42)\n",
        "np_classifier = GaussianNB()\n",
        "np_classifier.fit(x_train, y_train)\n",
        "y_pred = np_classifier.predict(x_test)\n",
        "conf_matrix = confusion_matrix(y_test, y_pred)\n",
        "conf_report = classification_report(y_test, y_pred)\n",
        "accuracy = accuracy_score(y_test, y_pred)\n",
        "print(\"accuracy:\", accuracy)\n",
        "print(\"\\n confusion matrix\")\n",
        "print(conf_matrix)\n",
        "print(\"\\n classification report\")\n",
        "print(conf_report)\n",
        "\n",
        "\n",
        "\n",
        "sns.heatmap(conf_matrix, annot=True, cmap=\"Blues\", fmt=\"d\", xticklabels=data.target_names, yticklabels=data.target_names)\n",
        "plt.xlabel('Predicted label')\n",
        "plt.ylabel('True label')\n",
        "plt.title(\"Confusion Matrix Heatmap\")\n",
        "plt.show()\n",
        "plt.title(\"confusion matrix heatmap\")\n",
        "plt.show()"
      ],
      "metadata": {
        "id": "2TqwsZq3Opuu"
      },
      "execution_count": null,
      "outputs": []
    }
  ]
}