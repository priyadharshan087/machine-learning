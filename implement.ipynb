{
  "nbformat": 4,
  "nbformat_minor": 0,
  "metadata": {
    "colab": {
      "provenance": []
    },
    "kernelspec": {
      "name": "python3",
      "display_name": "Python 3"
    },
    "language_info": {
      "name": "python"
    }
  },
  "cells": [
    {
      "cell_type": "code",
      "execution_count": null,
      "metadata": {
        "id": "SSF-v2RLQYKA"
      },
      "outputs": [],
      "source": [
        "from sklearn import tree\n",
        "features =[[140,1],[130,1],[150,0],[170,0]]\n",
        "labels = [0,0,1,1]\n",
        "clf = tree.DecisionTreeClassifier()\n",
        "clf = clf.fit(features,labels)\n",
        "output = clf.predict([[150,0]])\n",
        "print(output)"
      ]
    }
  ]
}